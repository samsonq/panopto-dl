{
 "cells": [
  {
   "cell_type": "code",
   "execution_count": 68,
   "id": "b0df5fab",
   "metadata": {},
   "outputs": [],
   "source": [
    "import os\n",
    "import sys\n",
    "from tqdm import tqdm\n",
    "\n",
    "from panopto_dl.PanoptoDownloader import PanoptoDownloader\n",
    "\n",
    "# Google Drive\n",
    "from __future__ import print_function\n",
    "import requests\n",
    "import pickle\n",
    "import os.path\n",
    "from googleapiclient.discovery import build\n",
    "from google_auth_oauthlib.flow import InstalledAppFlow\n",
    "from google.auth.transport.requests import Request\n",
    "from googleapiclient.http import MediaFileUpload, MediaInMemoryUpload\n",
    "from google.oauth2.credentials import Credentials\n",
    "from tabulate import tabulate"
   ]
  },
  {
   "cell_type": "code",
   "execution_count": 76,
   "id": "9ccb8e85",
   "metadata": {},
   "outputs": [],
   "source": [
    "URL = \"https://d2y36twrtb17ty.cloudfront.net/sessions/9ff73153-b779-496c-9887-aef6017f9eeb/1d06229d-06cb-4851-a3cb-aef6017f9ef8-8c3f5279-5816-498a-ad5e-af640185811c.mp4\"\n",
    "PATH = \"./output.mp4\"\n",
    "\n",
    "\n",
    "def callback(progress: int):\n",
    "    \"\"\"\n",
    "    :param progress: Downloading progress. From 0 to 100\n",
    "    \"\"\"\n",
    "    #print(f\"{progress} / 100\")"
   ]
  },
  {
   "cell_type": "code",
   "execution_count": 42,
   "id": "28790528",
   "metadata": {},
   "outputs": [],
   "source": [
    "PanoptoDownloader.download(\n",
    "            URL,\n",
    "            PATH,\n",
    "            callback\n",
    "        )"
   ]
  },
  {
   "cell_type": "markdown",
   "id": "10734654",
   "metadata": {},
   "source": [
    "#### Google Drive API"
   ]
  },
  {
   "cell_type": "code",
   "execution_count": 5,
   "id": "ea26e76a",
   "metadata": {},
   "outputs": [],
   "source": [
    "# If modifying these scopes, delete the file token.pickle.\n",
    "SCOPES = ['https://www.googleapis.com/auth/drive.metadata.readonly']\n",
    "\n",
    "def get_gdrive_service():\n",
    "    creds = None\n",
    "    # The file token.pickle stores the user's access and refresh tokens, and is\n",
    "    # created automatically when the authorization flow completes for the first\n",
    "    # time.\n",
    "    if os.path.exists('token.pickle'):\n",
    "        with open('token.pickle', 'rb') as token:\n",
    "            creds = pickle.load(token)\n",
    "    # If there are no (valid) credentials available, let the user log in.\n",
    "    if not creds or not creds.valid:\n",
    "        if creds and creds.expired and creds.refresh_token:\n",
    "            creds.refresh(Request())\n",
    "        else:\n",
    "            flow = InstalledAppFlow.from_client_secrets_file(\n",
    "                'credentials.json', SCOPES)\n",
    "            creds = flow.run_local_server(port=0)\n",
    "        # Save the credentials for the next run\n",
    "        with open('token.pickle', 'wb') as token:\n",
    "            pickle.dump(creds, token)\n",
    "    # return Google Drive API service\n",
    "    return build('drive', 'v3', credentials=creds)"
   ]
  },
  {
   "cell_type": "code",
   "execution_count": 7,
   "id": "d534367c",
   "metadata": {},
   "outputs": [],
   "source": [
    "def list_files(items):\n",
    "    \"\"\"given items returned by Google Drive API, prints them in a tabular way\"\"\"\n",
    "    if not items:\n",
    "        # empty drive\n",
    "        print('No files found.')\n",
    "    else:\n",
    "        rows = []\n",
    "        for item in items:\n",
    "            # get the File ID\n",
    "            id = item[\"id\"]\n",
    "            # get the name of file\n",
    "            name = item[\"name\"]\n",
    "            try:\n",
    "                # parent directory ID\n",
    "                parents = item[\"parents\"]\n",
    "            except:\n",
    "                # has no parrents\n",
    "                parents = \"N/A\"\n",
    "            try:\n",
    "                # get the size in nice bytes format (KB, MB, etc.)\n",
    "                size = get_size_format(int(item[\"size\"]))\n",
    "            except:\n",
    "                # not a file, may be a folder\n",
    "                size = \"N/A\"\n",
    "            # get the Google Drive type of file\n",
    "            mime_type = item[\"mimeType\"]\n",
    "            # get last modified date time\n",
    "            modified_time = item[\"modifiedTime\"]\n",
    "            # append everything to the list\n",
    "            rows.append((id, name, parents, size, mime_type, modified_time))\n",
    "        print(\"Files:\")\n",
    "        # convert to a human readable table\n",
    "        table = tabulate(rows, headers=[\"ID\", \"Name\", \"Parents\", \"Size\", \"Type\", \"Modified Time\"])\n",
    "        # print the table\n",
    "        print(table)"
   ]
  },
  {
   "cell_type": "code",
   "execution_count": 11,
   "id": "a63eec67",
   "metadata": {},
   "outputs": [
    {
     "name": "stdout",
     "output_type": "stream",
     "text": [
      "Files:\n",
      "ID                                            Name                                   Parents                  Size    Type                                  Modified Time\n",
      "--------------------------------------------  -------------------------------------  -----------------------  ------  ------------------------------------  ------------------------\n",
      "10hWm--LYvYOnsRsN46-R6xDAToAQGy--             MIT Canvas                             ['0AL8n4UP6vUEiUk9PVA']  N/A     application/vnd.google-apps.folder    2023-08-13T23:51:20.756Z\n",
      "1nR8sIPhx1AJRX3NjJL6P07XnTqZKCQnP             MIT Panopto                            ['0AL8n4UP6vUEiUk9PVA']  N/A     application/vnd.google-apps.folder    2023-08-13T23:51:13.849Z\n",
      "1acF7EezYl69Qqmkefuag-Hjrtdqulgqv             ADIA Labs Competition                  ['0AL8n4UP6vUEiUk9PVA']  N/A     application/vnd.google-apps.folder    2023-08-12T17:10:29.232Z\n",
      "13_PWdhThMr6roxb-UFiJj4YAFOj8e_bv3Vx9UHQdyBQ  hashirshoaeb resume -Updated 12.08.23  N/A                      N/A     application/vnd.google-apps.document  2023-08-12T11:26:59.077Z\n",
      "1l2sZnvcoJvx8xpT6WRvXO_Sgd94Gf2yWlChobK5-kJQ  Site 4 - Need to Know                  N/A                      N/A     application/vnd.google-apps.document  2023-08-11T02:23:38.471Z\n"
     ]
    }
   ],
   "source": [
    "service = get_gdrive_service()\n",
    "# Call the Drive v3 API\n",
    "results = service.files().list(\n",
    "    pageSize=5, fields=\"nextPageToken, files(id, name, mimeType, size, parents, modifiedTime)\").execute()\n",
    "# get the results\n",
    "items = results.get('files', [])\n",
    "# list all 20 files & folders\n",
    "list_files(items)"
   ]
  },
  {
   "cell_type": "markdown",
   "id": "4ff79f34",
   "metadata": {},
   "source": [
    "#### Upload Files To Google Drive"
   ]
  },
  {
   "cell_type": "code",
   "execution_count": 12,
   "id": "d29a50c8",
   "metadata": {},
   "outputs": [],
   "source": [
    "# Your credentials JSON file from the API Console\n",
    "CLIENT_SECRET_FILE = 'credentials.json'\n",
    "# Token file to store user's access and refresh tokens\n",
    "TOKEN_FILE = 'token.json'\n",
    "# ID of the folder where you want to upload the file\n",
    "FOLDER_ID = '1nR8sIPhx1AJRX3NjJL6P07XnTqZKCQnP'"
   ]
  },
  {
   "cell_type": "code",
   "execution_count": null,
   "id": "8b0bfddb",
   "metadata": {},
   "outputs": [],
   "source": [
    "# Authenticate using the stored token or by authorizing the app\n",
    "creds = None\n",
    "if os.path.exists(TOKEN_FILE):\n",
    "    creds = Credentials.from_authorized_user_file(TOKEN_FILE)\n",
    "if not creds or not creds.valid:\n",
    "    if creds and creds.expired and creds.refresh_token:\n",
    "        creds.refresh(Request())\n",
    "    else:\n",
    "        flow = InstalledAppFlow.from_client_secrets_file(CLIENT_SECRET_FILE, ['https://www.googleapis.com/auth/drive.file'])\n",
    "        creds = flow.run_local_server(port=0)\n",
    "    with open(TOKEN_FILE, 'w') as token:\n",
    "        token.write(creds.to_json())\n",
    "\n",
    "# Create a Google Drive API service\n",
    "drive_service = build('drive', 'v3', credentials=creds)"
   ]
  },
  {
   "cell_type": "code",
   "execution_count": 21,
   "id": "0f147a7c",
   "metadata": {},
   "outputs": [
    {
     "name": "stdout",
     "output_type": "stream",
     "text": [
      "File ID: 1oGfWdI5HsPcKqhHKbzVFqXJI4YhTZ-To\n"
     ]
    }
   ],
   "source": [
    "# Upload the MP4 file\n",
    "file_metadata = {'name': 'test.txt', 'parents': [FOLDER_ID]}\n",
    "media = MediaFileUpload('test.txt', \n",
    "                        #mimetype='video/mp4')\n",
    "                        resumable=True)\n",
    "file = drive_service.files().create(body=file_metadata, media_body=media, fields='id').execute()\n",
    "print('File ID:', file.get('id'))"
   ]
  },
  {
   "cell_type": "code",
   "execution_count": 25,
   "id": "8de0dd50",
   "metadata": {},
   "outputs": [
    {
     "data": {
      "text/plain": [
       "'test.mp4'"
      ]
     },
     "execution_count": 25,
     "metadata": {},
     "output_type": "execute_result"
    }
   ],
   "source": [
    "\"./recordings/test.mp4\".split(\"/\")[-1]"
   ]
  },
  {
   "cell_type": "markdown",
   "id": "356d2ccc",
   "metadata": {},
   "source": [
    "### Upload Panopto to Google Drive"
   ]
  },
  {
   "cell_type": "code",
   "execution_count": 55,
   "id": "7278b423",
   "metadata": {},
   "outputs": [],
   "source": [
    "# test one file\n",
    "URL = \"https://d2y36twrtb17ty.cloudfront.net/sessions/ad81e068-1e34-45ba-8f40-afe10106296b/1fcfa88f-ec37-4c5f-a97a-afe101062977-138b778d-7fc3-422e-8e94-aff20108f2ea.mp4\"\n",
    "PATH = URL.split(\"/\")[-1]\n",
    "\n",
    "FOLDER_ID = '1nR8sIPhx1AJRX3NjJL6P07XnTqZKCQnP'"
   ]
  },
  {
   "cell_type": "code",
   "execution_count": 56,
   "id": "b4f3dcfa",
   "metadata": {},
   "outputs": [],
   "source": [
    "PanoptoDownloader.download(\n",
    "            URL,\n",
    "            PATH,\n",
    "            callback\n",
    "        )"
   ]
  },
  {
   "cell_type": "code",
   "execution_count": 57,
   "id": "938ee8a0",
   "metadata": {},
   "outputs": [],
   "source": [
    "file_metadata = {'name': PATH, 'parents': [FOLDER_ID]}\n",
    "media = MediaFileUpload(PATH, \n",
    "                        #mimetype='video/mp4')\n",
    "                        resumable=True)\n",
    "\n",
    "file = drive_service.files().create(body=file_metadata, media_body=media, fields='id').execute()"
   ]
  },
  {
   "cell_type": "code",
   "execution_count": 58,
   "id": "8aa0f626",
   "metadata": {},
   "outputs": [],
   "source": [
    "os.remove(PATH)"
   ]
  },
  {
   "cell_type": "markdown",
   "id": "7723051e",
   "metadata": {},
   "source": [
    "#### Fast Download\n",
    "Having to download and save mp4 files and then uploading them again to Google Drive takes very long. This is because upload speed is typically much much slower than download speed. Upload time takes significantly longer, especially for long videos (i.e. over an hour).\n",
    "\n",
    "We can download mp4 links directly to Google Drive without having to save them an mp4 file first and then uploading. This will significantly speed up the process."
   ]
  },
  {
   "cell_type": "code",
   "execution_count": 69,
   "id": "c86ad877",
   "metadata": {},
   "outputs": [],
   "source": [
    "# URL of the MP4 file you want to download\n",
    "URL = \"https://d2y36twrtb17ty.cloudfront.net/sessions/ad81e068-1e34-45ba-8f40-afe10106296b/1fcfa88f-ec37-4c5f-a97a-afe101062977-138b778d-7fc3-422e-8e94-aff20108f2ea.mp4\"\n",
    "PATH = URL.split(\"/\")[-1]\n",
    "FOLDER_ID = '1nR8sIPhx1AJRX3NjJL6P07XnTqZKCQnP'\n",
    "\n",
    "response = requests.get(URL)\n",
    "content = response.content"
   ]
  },
  {
   "cell_type": "code",
   "execution_count": 70,
   "id": "3e36a6d0",
   "metadata": {},
   "outputs": [
    {
     "name": "stdout",
     "output_type": "stream",
     "text": [
      "File ID: 1YDT5O4LvQviHq0t40GjbUJtSEBvXXBqj\n"
     ]
    }
   ],
   "source": [
    "# Create a media object with the downloaded content\n",
    "media = MediaInMemoryUpload(content, mimetype='video/mp4')\n",
    "\n",
    "# Create a file in Google Drive with the downloaded content\n",
    "file_metadata = {'name': PATH, 'parents': [FOLDER_ID]}\n",
    "file = drive_service.files().create(body=file_metadata, media_body=media, fields='id').execute()\n",
    "\n",
    "print('File ID:', file.get('id'))"
   ]
  },
  {
   "cell_type": "code",
   "execution_count": null,
   "id": "a352925f",
   "metadata": {},
   "outputs": [],
   "source": []
  },
  {
   "cell_type": "markdown",
   "id": "8567b59b",
   "metadata": {},
   "source": [
    "Bulk Download & Upload"
   ]
  },
  {
   "cell_type": "code",
   "execution_count": 71,
   "id": "506eed48",
   "metadata": {
    "scrolled": true
   },
   "outputs": [
    {
     "name": "stdout",
     "output_type": "stream",
     "text": [
      "https://d2y36twrtb17ty.cloudfront.net/sessions/f3634154-fe0f-4307-95fb-b01200eceb13/0f72a810-ff67-4e67-9b28-b01200eceb1c-4d190a5c-6efa-4b57-86c8-b0130093ff51.mp4\n",
      "\n",
      "https://d2y36twrtb17ty.cloudfront.net/sessions/add26c14-41de-497c-964b-b01200eba395/f4110f91-2b3f-4138-a79b-b01200eba39f-712a493d-ed10-430c-a46e-b01300950919.mp4\n",
      "\n",
      "https://d2y36twrtb17ty.cloudfront.net/sessions/fd4246ee-4b2b-4ec3-9b45-b01200d706cb/cd597a92-9756-4bf0-a5ec-b01200d706e2-5031e44c-405a-4471-b336-b013009630a6.mp4\n",
      "\n",
      "https://d2y36twrtb17ty.cloudfront.net/sessions/cadaea1e-9d77-47c2-af08-afac0119c1f4/82fda9f6-2167-47b8-a441-afac0119c1fd-4201bf31-cfac-4db0-a9d1-b007014a1c2c.mp4\n",
      "\n",
      "https://d2y36twrtb17ty.cloudfront.net/sessions/54fd24ce-d00b-4084-ac5d-afac01190fc9/1344212d-6b1f-499b-ad3a-afac01190fd2-460fa2ee-6768-47db-9710-b00701315170.mp4\n",
      "\n",
      "https://d2y36twrtb17ty.cloudfront.net/sessions/583d73bd-3c34-4ed0-9d81-afac011a2f15/9dd07100-8ee7-4f9a-bbfa-afac011a2f1f-9a2eca01-fafb-463f-be15-b00700f67eed.mp4\n",
      "\n",
      "https://d2y36twrtb17ty.cloudfront.net/sessions/09eb1deb-0074-4967-bb43-af93013fc81d/9e61da55-5e6c-4359-8017-af93013fc827-6a3dab4d-9f78-4899-80e9-b01901429d13.mp4\n",
      "\n",
      "https://d2y36twrtb17ty.cloudfront.net/sessions/4fe9aa77-bafd-4475-a304-af93013f63ba/ab3f2f42-5276-4d61-a2f8-af93013f63c5-9c5a5acd-5bbd-4949-bbb6-b004011792b8.mp4\n",
      "\n",
      "https://d2y36twrtb17ty.cloudfront.net/sessions/b7e08b9b-baa7-471c-a3e8-af9301417e41/b42b1274-25cb-4198-b1e5-af9301417e49-89d45da7-02e9-4e5c-98f6-b004010007f9.mp4\n",
      "\n",
      "https://d2y36twrtb17ty.cloudfront.net/sessions/aa2a7051-abb3-49e3-a557-af9301412e08/dbbb688f-e1f2-4857-9fea-af9301412e12-e4aa4703-55a4-4532-8074-b003013060b9.mp4\n"
     ]
    }
   ],
   "source": [
    "with open(\"test.txt\", \"r\") as f:\n",
    "    lines = f.readlines()\n",
    "    total_lines = len(lines)\n",
    "    for line in lines:\n",
    "        print(line)"
   ]
  },
  {
   "cell_type": "code",
   "execution_count": 78,
   "id": "6a9ad53d",
   "metadata": {},
   "outputs": [
    {
     "name": "stderr",
     "output_type": "stream",
     "text": [
      " 10%|████▍                                       | 1/10 [00:25<03:45, 25.06s/it]"
     ]
    },
    {
     "name": "stdout",
     "output_type": "stream",
     "text": [
      "Completed: 1/10\n"
     ]
    },
    {
     "name": "stderr",
     "output_type": "stream",
     "text": [
      "\r",
      " 20%|████████▊                                   | 2/10 [01:08<04:47, 35.90s/it]"
     ]
    },
    {
     "name": "stdout",
     "output_type": "stream",
     "text": [
      "Completed: 2/10\n"
     ]
    },
    {
     "name": "stderr",
     "output_type": "stream",
     "text": [
      " 20%|████████▊                                   | 2/10 [01:16<05:06, 38.31s/it]\n"
     ]
    },
    {
     "ename": "KeyboardInterrupt",
     "evalue": "",
     "output_type": "error",
     "traceback": [
      "\u001b[0;31m---------------------------------------------------------------------------\u001b[0m",
      "\u001b[0;31mKeyboardInterrupt\u001b[0m                         Traceback (most recent call last)",
      "Input \u001b[0;32mIn [78]\u001b[0m, in \u001b[0;36m<cell line: 4>\u001b[0;34m()\u001b[0m\n\u001b[1;32m      9\u001b[0m     url \u001b[38;5;241m=\u001b[39m url\u001b[38;5;241m.\u001b[39mstrip()\n\u001b[1;32m     10\u001b[0m     PATH \u001b[38;5;241m=\u001b[39m os\u001b[38;5;241m.\u001b[39mpath\u001b[38;5;241m.\u001b[39mjoin(LOCAL_FOLDER, url\u001b[38;5;241m.\u001b[39msplit(\u001b[38;5;124m\"\u001b[39m\u001b[38;5;124m/\u001b[39m\u001b[38;5;124m\"\u001b[39m)[\u001b[38;5;241m-\u001b[39m\u001b[38;5;241m1\u001b[39m])\n\u001b[0;32m---> 11\u001b[0m     \u001b[43mPanoptoDownloader\u001b[49m\u001b[38;5;241;43m.\u001b[39;49m\u001b[43mdownload\u001b[49m\u001b[43m(\u001b[49m\u001b[43murl\u001b[49m\u001b[43m,\u001b[49m\n\u001b[1;32m     12\u001b[0m \u001b[43m                               \u001b[49m\u001b[43mPATH\u001b[49m\u001b[43m,\u001b[49m\n\u001b[1;32m     13\u001b[0m \u001b[43m                               \u001b[49m\u001b[43mcallback\u001b[49m\u001b[43m)\u001b[49m\n\u001b[1;32m     15\u001b[0m \u001b[38;5;28;01mexcept\u001b[39;00m \u001b[38;5;167;01mException\u001b[39;00m \u001b[38;5;28;01mas\u001b[39;00m e:\n\u001b[1;32m     16\u001b[0m     \u001b[38;5;28mprint\u001b[39m(e)\n",
      "File \u001b[0;32m~/opt/anaconda3/lib/python3.9/site-packages/panopto_dl/PanoptoDownloader/PanoptoDownloader.py:58\u001b[0m, in \u001b[0;36mdownload\u001b[0;34m(uri, output, callback)\u001b[0m\n\u001b[1;32m     56\u001b[0m response \u001b[38;5;241m=\u001b[39m requests\u001b[38;5;241m.\u001b[39mhead(uri)\n\u001b[1;32m     57\u001b[0m \u001b[38;5;28;01mif\u001b[39;00m \u001b[38;5;124m'\u001b[39m\u001b[38;5;124mvideo/\u001b[39m\u001b[38;5;124m'\u001b[39m \u001b[38;5;129;01min\u001b[39;00m response\u001b[38;5;241m.\u001b[39mheaders\u001b[38;5;241m.\u001b[39mget(\u001b[38;5;124m'\u001b[39m\u001b[38;5;124mContent-Type\u001b[39m\u001b[38;5;124m'\u001b[39m, \u001b[38;5;124m'\u001b[39m\u001b[38;5;124m'\u001b[39m):\n\u001b[0;32m---> 58\u001b[0m     \u001b[43murllib\u001b[49m\u001b[38;5;241;43m.\u001b[39;49m\u001b[43mrequest\u001b[49m\u001b[38;5;241;43m.\u001b[39;49m\u001b[43murlretrieve\u001b[49m\u001b[43m(\u001b[49m\u001b[43muri\u001b[49m\u001b[43m,\u001b[49m\u001b[43m \u001b[49m\u001b[43moutput\u001b[49m\u001b[43m,\u001b[49m\u001b[43m \u001b[49m\u001b[43m_format\u001b[49m\u001b[43m)\u001b[49m\n\u001b[1;32m     59\u001b[0m \u001b[38;5;28;01melse\u001b[39;00m:\n\u001b[1;32m     60\u001b[0m     \u001b[38;5;28;01mraise\u001b[39;00m NotAVideo(\u001b[38;5;124m'\u001b[39m\u001b[38;5;124mDoesn\u001b[39m\u001b[38;5;130;01m\\'\u001b[39;00m\u001b[38;5;124mt seem to be a video\u001b[39m\u001b[38;5;124m'\u001b[39m)\n",
      "File \u001b[0;32m~/opt/anaconda3/lib/python3.9/urllib/request.py:268\u001b[0m, in \u001b[0;36murlretrieve\u001b[0;34m(url, filename, reporthook, data)\u001b[0m\n\u001b[1;32m    265\u001b[0m     reporthook(blocknum, bs, size)\n\u001b[1;32m    267\u001b[0m \u001b[38;5;28;01mwhile\u001b[39;00m \u001b[38;5;28;01mTrue\u001b[39;00m:\n\u001b[0;32m--> 268\u001b[0m     block \u001b[38;5;241m=\u001b[39m \u001b[43mfp\u001b[49m\u001b[38;5;241;43m.\u001b[39;49m\u001b[43mread\u001b[49m\u001b[43m(\u001b[49m\u001b[43mbs\u001b[49m\u001b[43m)\u001b[49m\n\u001b[1;32m    269\u001b[0m     \u001b[38;5;28;01mif\u001b[39;00m \u001b[38;5;129;01mnot\u001b[39;00m block:\n\u001b[1;32m    270\u001b[0m         \u001b[38;5;28;01mbreak\u001b[39;00m\n",
      "File \u001b[0;32m~/opt/anaconda3/lib/python3.9/http/client.py:463\u001b[0m, in \u001b[0;36mHTTPResponse.read\u001b[0;34m(self, amt)\u001b[0m\n\u001b[1;32m    460\u001b[0m \u001b[38;5;28;01mif\u001b[39;00m amt \u001b[38;5;129;01mis\u001b[39;00m \u001b[38;5;129;01mnot\u001b[39;00m \u001b[38;5;28;01mNone\u001b[39;00m:\n\u001b[1;32m    461\u001b[0m     \u001b[38;5;66;03m# Amount is given, implement using readinto\u001b[39;00m\n\u001b[1;32m    462\u001b[0m     b \u001b[38;5;241m=\u001b[39m \u001b[38;5;28mbytearray\u001b[39m(amt)\n\u001b[0;32m--> 463\u001b[0m     n \u001b[38;5;241m=\u001b[39m \u001b[38;5;28;43mself\u001b[39;49m\u001b[38;5;241;43m.\u001b[39;49m\u001b[43mreadinto\u001b[49m\u001b[43m(\u001b[49m\u001b[43mb\u001b[49m\u001b[43m)\u001b[49m\n\u001b[1;32m    464\u001b[0m     \u001b[38;5;28;01mreturn\u001b[39;00m \u001b[38;5;28mmemoryview\u001b[39m(b)[:n]\u001b[38;5;241m.\u001b[39mtobytes()\n\u001b[1;32m    465\u001b[0m \u001b[38;5;28;01melse\u001b[39;00m:\n\u001b[1;32m    466\u001b[0m     \u001b[38;5;66;03m# Amount is not given (unbounded read) so we must check self.length\u001b[39;00m\n\u001b[1;32m    467\u001b[0m     \u001b[38;5;66;03m# and self.chunked\u001b[39;00m\n",
      "File \u001b[0;32m~/opt/anaconda3/lib/python3.9/http/client.py:507\u001b[0m, in \u001b[0;36mHTTPResponse.readinto\u001b[0;34m(self, b)\u001b[0m\n\u001b[1;32m    502\u001b[0m         b \u001b[38;5;241m=\u001b[39m \u001b[38;5;28mmemoryview\u001b[39m(b)[\u001b[38;5;241m0\u001b[39m:\u001b[38;5;28mself\u001b[39m\u001b[38;5;241m.\u001b[39mlength]\n\u001b[1;32m    504\u001b[0m \u001b[38;5;66;03m# we do not use _safe_read() here because this may be a .will_close\u001b[39;00m\n\u001b[1;32m    505\u001b[0m \u001b[38;5;66;03m# connection, and the user is reading more bytes than will be provided\u001b[39;00m\n\u001b[1;32m    506\u001b[0m \u001b[38;5;66;03m# (for example, reading in 1k chunks)\u001b[39;00m\n\u001b[0;32m--> 507\u001b[0m n \u001b[38;5;241m=\u001b[39m \u001b[38;5;28;43mself\u001b[39;49m\u001b[38;5;241;43m.\u001b[39;49m\u001b[43mfp\u001b[49m\u001b[38;5;241;43m.\u001b[39;49m\u001b[43mreadinto\u001b[49m\u001b[43m(\u001b[49m\u001b[43mb\u001b[49m\u001b[43m)\u001b[49m\n\u001b[1;32m    508\u001b[0m \u001b[38;5;28;01mif\u001b[39;00m \u001b[38;5;129;01mnot\u001b[39;00m n \u001b[38;5;129;01mand\u001b[39;00m b:\n\u001b[1;32m    509\u001b[0m     \u001b[38;5;66;03m# Ideally, we would raise IncompleteRead if the content-length\u001b[39;00m\n\u001b[1;32m    510\u001b[0m     \u001b[38;5;66;03m# wasn't satisfied, but it might break compatibility.\u001b[39;00m\n\u001b[1;32m    511\u001b[0m     \u001b[38;5;28mself\u001b[39m\u001b[38;5;241m.\u001b[39m_close_conn()\n",
      "File \u001b[0;32m~/opt/anaconda3/lib/python3.9/socket.py:704\u001b[0m, in \u001b[0;36mSocketIO.readinto\u001b[0;34m(self, b)\u001b[0m\n\u001b[1;32m    702\u001b[0m \u001b[38;5;28;01mwhile\u001b[39;00m \u001b[38;5;28;01mTrue\u001b[39;00m:\n\u001b[1;32m    703\u001b[0m     \u001b[38;5;28;01mtry\u001b[39;00m:\n\u001b[0;32m--> 704\u001b[0m         \u001b[38;5;28;01mreturn\u001b[39;00m \u001b[38;5;28;43mself\u001b[39;49m\u001b[38;5;241;43m.\u001b[39;49m\u001b[43m_sock\u001b[49m\u001b[38;5;241;43m.\u001b[39;49m\u001b[43mrecv_into\u001b[49m\u001b[43m(\u001b[49m\u001b[43mb\u001b[49m\u001b[43m)\u001b[49m\n\u001b[1;32m    705\u001b[0m     \u001b[38;5;28;01mexcept\u001b[39;00m timeout:\n\u001b[1;32m    706\u001b[0m         \u001b[38;5;28mself\u001b[39m\u001b[38;5;241m.\u001b[39m_timeout_occurred \u001b[38;5;241m=\u001b[39m \u001b[38;5;28;01mTrue\u001b[39;00m\n",
      "File \u001b[0;32m~/opt/anaconda3/lib/python3.9/ssl.py:1241\u001b[0m, in \u001b[0;36mSSLSocket.recv_into\u001b[0;34m(self, buffer, nbytes, flags)\u001b[0m\n\u001b[1;32m   1237\u001b[0m     \u001b[38;5;28;01mif\u001b[39;00m flags \u001b[38;5;241m!=\u001b[39m \u001b[38;5;241m0\u001b[39m:\n\u001b[1;32m   1238\u001b[0m         \u001b[38;5;28;01mraise\u001b[39;00m \u001b[38;5;167;01mValueError\u001b[39;00m(\n\u001b[1;32m   1239\u001b[0m           \u001b[38;5;124m\"\u001b[39m\u001b[38;5;124mnon-zero flags not allowed in calls to recv_into() on \u001b[39m\u001b[38;5;132;01m%s\u001b[39;00m\u001b[38;5;124m\"\u001b[39m \u001b[38;5;241m%\u001b[39m\n\u001b[1;32m   1240\u001b[0m           \u001b[38;5;28mself\u001b[39m\u001b[38;5;241m.\u001b[39m\u001b[38;5;18m__class__\u001b[39m)\n\u001b[0;32m-> 1241\u001b[0m     \u001b[38;5;28;01mreturn\u001b[39;00m \u001b[38;5;28;43mself\u001b[39;49m\u001b[38;5;241;43m.\u001b[39;49m\u001b[43mread\u001b[49m\u001b[43m(\u001b[49m\u001b[43mnbytes\u001b[49m\u001b[43m,\u001b[49m\u001b[43m \u001b[49m\u001b[43mbuffer\u001b[49m\u001b[43m)\u001b[49m\n\u001b[1;32m   1242\u001b[0m \u001b[38;5;28;01melse\u001b[39;00m:\n\u001b[1;32m   1243\u001b[0m     \u001b[38;5;28;01mreturn\u001b[39;00m \u001b[38;5;28msuper\u001b[39m()\u001b[38;5;241m.\u001b[39mrecv_into(buffer, nbytes, flags)\n",
      "File \u001b[0;32m~/opt/anaconda3/lib/python3.9/ssl.py:1099\u001b[0m, in \u001b[0;36mSSLSocket.read\u001b[0;34m(self, len, buffer)\u001b[0m\n\u001b[1;32m   1097\u001b[0m \u001b[38;5;28;01mtry\u001b[39;00m:\n\u001b[1;32m   1098\u001b[0m     \u001b[38;5;28;01mif\u001b[39;00m buffer \u001b[38;5;129;01mis\u001b[39;00m \u001b[38;5;129;01mnot\u001b[39;00m \u001b[38;5;28;01mNone\u001b[39;00m:\n\u001b[0;32m-> 1099\u001b[0m         \u001b[38;5;28;01mreturn\u001b[39;00m \u001b[38;5;28;43mself\u001b[39;49m\u001b[38;5;241;43m.\u001b[39;49m\u001b[43m_sslobj\u001b[49m\u001b[38;5;241;43m.\u001b[39;49m\u001b[43mread\u001b[49m\u001b[43m(\u001b[49m\u001b[38;5;28;43mlen\u001b[39;49m\u001b[43m,\u001b[49m\u001b[43m \u001b[49m\u001b[43mbuffer\u001b[49m\u001b[43m)\u001b[49m\n\u001b[1;32m   1100\u001b[0m     \u001b[38;5;28;01melse\u001b[39;00m:\n\u001b[1;32m   1101\u001b[0m         \u001b[38;5;28;01mreturn\u001b[39;00m \u001b[38;5;28mself\u001b[39m\u001b[38;5;241m.\u001b[39m_sslobj\u001b[38;5;241m.\u001b[39mread(\u001b[38;5;28mlen\u001b[39m)\n",
      "\u001b[0;31mKeyboardInterrupt\u001b[0m: "
     ]
    }
   ],
   "source": [
    "# save to local\n",
    "LOCAL_FOLDER = \"./test\"\n",
    "counter = 1\n",
    "with open(\"test.txt\", \"r\") as f:\n",
    "    lines = f.readlines()\n",
    "    total_lines = len(lines)\n",
    "    for url in tqdm(lines, total=total_lines, position=0):\n",
    "        try:\n",
    "            url = url.strip()\n",
    "            PATH = os.path.join(LOCAL_FOLDER, url.split(\"/\")[-1])\n",
    "            PanoptoDownloader.download(url,\n",
    "                                       PATH,\n",
    "                                       callback)\n",
    "\n",
    "        except Exception as e:\n",
    "            print(e)\n",
    "            \n",
    "        print(\"Completed: {}/{}\".format(counter, total_lines))\n",
    "        counter += 1"
   ]
  },
  {
   "cell_type": "code",
   "execution_count": null,
   "id": "c9464a83",
   "metadata": {},
   "outputs": [],
   "source": [
    "# save to Google Drive\n",
    "with open(\"test.txt\", \"r\") as f:\n",
    "    lines = f.readlines()\n",
    "    total_lines = len(lines)\n",
    "    for url in tqdm(lines, total=total_lines):\n",
    "        try:\n",
    "            PATH = url.split(\"/\")[-1]\n",
    "            PanoptoDownloader.download(url,\n",
    "                                       PATH,\n",
    "                                       callback)\n",
    "            \n",
    "            file_metadata = {'name': PATH, 'parents': [FOLDER_ID]}\n",
    "            media = MediaFileUpload(PATH, \n",
    "                                    #mimetype='video/mp4')\n",
    "                                    resumable=True)\n",
    "\n",
    "            file = drive_service.files().create(body=file_metadata, media_body=media, fields='id').execute()\n",
    "            \n",
    "            os.remove(PATH)\n",
    "        \n",
    "        except Exception as e:\n",
    "            print(e)"
   ]
  },
  {
   "cell_type": "code",
   "execution_count": null,
   "id": "133417d0",
   "metadata": {},
   "outputs": [],
   "source": []
  }
 ],
 "metadata": {
  "kernelspec": {
   "display_name": "Python 3 (ipykernel)",
   "language": "python",
   "name": "python3"
  },
  "language_info": {
   "codemirror_mode": {
    "name": "ipython",
    "version": 3
   },
   "file_extension": ".py",
   "mimetype": "text/x-python",
   "name": "python",
   "nbconvert_exporter": "python",
   "pygments_lexer": "ipython3",
   "version": "3.9.12"
  }
 },
 "nbformat": 4,
 "nbformat_minor": 5
}
