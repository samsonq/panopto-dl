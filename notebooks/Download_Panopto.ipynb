{
 "cells": [
  {
   "cell_type": "code",
   "execution_count": 7,
   "id": "b0df5fab",
   "metadata": {},
   "outputs": [],
   "source": [
    "import os\n",
    "import sys\n",
    "sys.path.insert(0, \"../panopto_dl\")\n",
    "from PanoptoDownloader import PanoptoDownloader"
   ]
  },
  {
   "cell_type": "code",
   "execution_count": 15,
   "id": "44078c8e",
   "metadata": {},
   "outputs": [],
   "source": [
    "URL = \"https://d2y36twrtb17ty.cloudfront.net/sessions/9ff73153-b779-496c-9887-aef6017f9eeb/1d06229d-06cb-4851-a3cb-aef6017f9ef8-8c3f5279-5816-498a-ad5e-af640185811c.mp4\"\n",
    "PATH = \"./output.mp4\"\n",
    "\n",
    "\n",
    "def callback(progress: int):\n",
    "    \"\"\"\n",
    "    :param progress: Downloading progress. From 0 to 100\n",
    "    \"\"\"\n",
    "    #print(f\"{progress} / 100\")"
   ]
  },
  {
   "cell_type": "code",
   "execution_count": 16,
   "id": "6acde276",
   "metadata": {},
   "outputs": [],
   "source": [
    "PanoptoDownloader.download(\n",
    "            URL,\n",
    "            PATH,\n",
    "            callback\n",
    "        )"
   ]
  },
  {
   "cell_type": "code",
   "execution_count": null,
   "id": "b1d68a14",
   "metadata": {},
   "outputs": [],
   "source": []
  }
 ],
 "metadata": {
  "kernelspec": {
   "display_name": "Python 3 (ipykernel)",
   "language": "python",
   "name": "python3"
  },
  "language_info": {
   "codemirror_mode": {
    "name": "ipython",
    "version": 3
   },
   "file_extension": ".py",
   "mimetype": "text/x-python",
   "name": "python",
   "nbconvert_exporter": "python",
   "pygments_lexer": "ipython3",
   "version": "3.9.12"
  }
 },
 "nbformat": 4,
 "nbformat_minor": 5
}
